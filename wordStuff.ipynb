{
  "cells": [
    {
      "metadata": {
        "trusted": true
      },
      "cell_type": "code",
      "source": "import json\nfrom string import punctuation\nfrom collections import Counter\n\ndef get_top_ten_words(recordId, text):\n\n    # Array of stop words to be ignored\n    stopwords = ['', 'i', 'me', 'my', 'myself', 'we', 'our', 'ours', 'ourselves', 'you', \n    \"youre\", \"youve\", \"youll\", \"youd\", 'your', 'yours', 'yourself', \n    'yourselves', 'he', 'him', 'his', 'himself', 'she', \"shes\", 'her', \n    'hers', 'herself', 'it', \"its\", 'itself', 'they', 'them', \n    'their', 'theirs', 'themselves', 'what', 'which', 'who', 'whom', \n    'this', 'that', \"thatll\", 'these', 'those', 'am', 'is', 'are', 'was',\n    'were', 'be', 'been', 'being', 'have', 'has', 'had', 'having', 'do', \n    'does', 'did', 'doing', 'a', 'an', 'the', 'and', 'but', 'if', 'or', \n    'because', 'as', 'until', 'while', 'of', 'at', 'by', 'for', 'with', \n    'about', 'against', 'between', 'into', 'through', 'during', 'before', \n    'after', 'above', 'below', 'to', 'from', 'up', 'down', 'in', 'out', \n    'on', 'off', 'over', 'under', 'again', 'further', 'then', 'once', 'here', \n    'there', 'when', 'where', 'why', 'how', 'all', 'any', 'both', 'each', \n    'few', 'more', 'most', 'other', 'some', 'such', 'no', 'nor', 'not', \n    'only', 'own', 'same', 'so', 'than', 'too', 'very', 'can', 'will',\n    'just', \"dont\", 'should', \"shouldve\", 'now', \"arent\", \"couldnt\", \n    \"didnt\", \"doesnt\", \"hadnt\", \"hasnt\", \"havent\", \"isnt\", \"mightnt\", \"mustnt\",\n    \"neednt\", \"shant\", \"shouldnt\", \"wasnt\", \"werent\", \"wont\", \"wouldnt\", \"shall\"]\n\n    # Empty JSON structure in which to return the results\n    result_data = {}\n    result_json = {\"words\":[]}\n\n    try:\n        # remove numeric digits\n        text = ''.join(c for c in text if not c.isdigit())\n\n        # remove punctuation and make lower case\n        text = ''.join(c for c in text if c not in punctuation).lower()\n\n        # remove stopwords\n        text = ' '.join(w for w in text.split() if w not in stopwords)\n\n        # Count the words and get the most common 10\n        wordcount = Counter(text.split()).most_common(10)\n        words = [w[0] for w in wordcount]\n\n        # Add the top 10 words to the output for this text record\n        result_json[\"words\"] = words\n        \n        result_data[\"recordId\"] = str(recordId)\n        result_data[\"data\"] = result_json\n        \n        # return the results\n        return result_data\n\n    except Exception as ex:\n        print(ex)\n",
      "execution_count": 34,
      "outputs": []
    },
    {
      "metadata": {
        "trusted": true
      },
      "cell_type": "code",
      "source": "test_text = {\n    'values': [{\n        'recordId': '0',\n        'data': {\n            'text': '\\nFantastic family hotel \\n\\nThe Lost City Hotel, Dubai, UAE \\n\\n11/25/2018 \\n\\nThis Hotel is fantastic. I have stayed at a number of 5 star hotels and I can truly say this is a great \\n\\nhotel. It may not be subtle but there is nothiong cheap or tacky about the fitting out. Here are a few \\n\\nfab things about it:1. The interior design is impressive2. The staff and service are excellent - always \\n\\nthere when you need them and never over the top - and they love kids 3. The half board restaurants \\n\\nare the best I have seen in the world. Safron has an amazing array of quality foods inccluding a full \\n\\nDim Sum bar and a fish counter with as much lobster on ice as you fancy and a chocolate fountain to \\n\\nput fruit on a stick into. 4. You can get a arabian style tent by the pool for an extra charge which is \\n\\nfantastic for the kids with full shade, bean bags and a toy chest of board games etc. 5. The water \\n\\npark is great fun for all the family and is a nice mix to spend a few hours there and then back to the \\n\\nquiet of the hotel pool.The hotel pools are great with a zero entry one ideal for toddlers 6. Safety is a \\n\\ngiven with about 5 life guards per pool and security staff all over the hotel.It does not have the \\n\\nintamacy of a small luxury hotel but for a family holiday with young kids it has everything you need \\n\\nfor a stress free fun time with a luxury feel.For our own experience, we paid the extra money to \\n\\nupgrade to a suite to get an extra room for our 2 young boys but got it credited back as we were \\n\\ninterupted by noise form a beach marty on our second night. The staff were fantastic at dealing with \\n\\nit and left us feeling like they really did care about their reputation and have now secured our future \\n\\ncustom.The rooms are niceley done but paying thr extra £100 a night to upgrade to a suite on arrival \\n\\nis worth it if you can afford it. We got a tub big enough for the whole family and 1000 sq ft \\n\\napartment).Dolphin experience was also great and worth the money for kids. Definatley go for the \\n\\nhalf board deal - restaurants are quite pricey otherwise and the food is to die for..Thank you for a \\n\\ngreat 6 days - we will be back ! \\n\\nReviewer: Valeria Stephens \\n\\n\\n'\n        }\n    }, {\n        'recordId': '1',\n        'data': {\n            'text': '\\nGood hotel great location \\n\\nThe Wharf Hotel, San Francisco, USA \\n\\n11/26/2018 \\n\\nGood clean hotel in an excellent location two minutes from pier 39 \\n\\nReviewer: Alejandra Wallace \\n\\n\\n'\n        }\n    }, {\n        'recordId': '2',\n        'data': {\n            'text': '\\nGood and Bad \\n\\nThe Buckingham Hotel, London, UK \\n\\n12/29/2018 \\n\\nThe hotel used to be known as the St. James - a fact that most London cabbies will remind you of. It \\n\\nis a mystery why the owners chose to rename it with its street  - that is okay in New York but \\n\\napparently not in London according to taxi drivers. The hotel (apartments) boasts a 5 star 5 diamond \\n\\nlabel but probably needs some sprucing up to really merit that. For example, the elevator - sized like \\n\\na coffin - in the building adjacent to the main building has an old worn out carpet and has short jerky \\n\\nmovements and gets filled quickly resulting in waits at the ground level. On check-in the receptionist \\n\\npromised various newspapers the next morning besides the complimentary Independent only to find \\n\\nNOTHING delivered. The Independent did arrive on the second morning. The breakfast room is tiny \\n\\nand gets filled in rapidly on weekends with the staff valiantly trying to keep guests seated and served \\n\\nbut usually is unable to cope - example: cappuccino ordered showed up tepid and luke warm. \\n\\nEvidently it came from some place far away (probably the hotel next door which management does \\n\\nlittle to let on that it is part of the same ownership). On the plus side, great location - walking \\n\\ndistance to almost any part of central London. \\n\\nReviewer: Constance Kirkland \\n\\n\\n'\n        }\n    }]\n}",
      "execution_count": 31,
      "outputs": []
    },
    {
      "metadata": {
        "trusted": true
      },
      "cell_type": "code",
      "source": "vals = test_text['values']\nreturn_dict = {}\nreturn_list = []\n\nfor v in vals:\n    test_result = get_top_ten_words(v['recordId'], v['data']['text'])\n    return_list.append(test_result)\n    \nreturn_dict[\"values\"] = return_list    \nprint(return_dict)",
      "execution_count": 37,
      "outputs": [
        {
          "output_type": "stream",
          "text": "{'value': [{'data': {'words': ['hotel', 'great', 'fantastic', 'family', 'kids', 'extra', 'staff', 'back', 'board', 'night']}, 'recordId': '0'}, {'data': {'words': ['hotel', 'good', 'location', 'wharf', 'alejandra', 'great', 'usa', 'san', 'wallace', 'pier']}, 'recordId': '1'}, {'data': {'words': ['london', 'hotel', 'independent', 'part', 'next', 'building', 'filled', 'probably', 'gets', 'morning']}, 'recordId': '2'}]}\n",
          "name": "stdout"
        }
      ]
    },
    {
      "metadata": {
        "trusted": true
      },
      "cell_type": "code",
      "source": "\n",
      "execution_count": 18,
      "outputs": []
    },
    {
      "metadata": {
        "trusted": true
      },
      "cell_type": "code",
      "source": "print(json.dumps(test_result))",
      "execution_count": 19,
      "outputs": [
        {
          "output_type": "stream",
          "text": "{\"words\": [\"hotel\", \"great\", \"fantastic\", \"family\", \"kids\", \"extra\", \"staff\", \"back\", \"board\", \"night\"]}\n",
          "name": "stdout"
        }
      ]
    },
    {
      "metadata": {
        "trusted": true
      },
      "cell_type": "code",
      "source": "",
      "execution_count": null,
      "outputs": []
    }
  ],
  "metadata": {
    "kernelspec": {
      "name": "python3",
      "display_name": "Python 3",
      "language": "python"
    },
    "language_info": {
      "mimetype": "text/x-python",
      "nbconvert_exporter": "python",
      "name": "python",
      "file_extension": ".py",
      "version": "3.5.4",
      "pygments_lexer": "ipython3",
      "codemirror_mode": {
        "version": 3,
        "name": "ipython"
      }
    }
  },
  "nbformat": 4,
  "nbformat_minor": 2
}