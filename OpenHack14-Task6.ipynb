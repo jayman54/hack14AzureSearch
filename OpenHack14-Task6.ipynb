{
  "cells": [
    {
      "metadata": {
        "trusted": true
      },
      "cell_type": "code",
      "source": "import json\nimport requests\nfrom pprint import pprint",
      "execution_count": 241,
      "outputs": []
    },
    {
      "metadata": {
        "trusted": true
      },
      "cell_type": "code",
      "source": "endpoint = 'https://qnafaq-aslv4rot7gumsy4.search.windows.net/'\napi_version = '?api-version=2019-05-06'\nheaders = {'Content-Type': 'application/json',\n        'api-key': 'B08826F08F7F9A7C4B26F2D315FFFDD3' }\nparams = { 'api-version': '2019-05-06' }",
      "execution_count": 242,
      "outputs": []
    },
    {
      "metadata": {
        "trusted": true
      },
      "cell_type": "code",
      "source": "url = endpoint + \"indexes\" + api_version + \"&$select=name\"\nresponse  = requests.get(url, headers=headers)\nindex_list = response.json()\npprint(index_list)",
      "execution_count": 243,
      "outputs": [
        {
          "output_type": "stream",
          "text": "{'@odata.context': 'https://qnafaq-aslv4rot7gumsy4.search.windows.net/$metadata#indexes(name)',\n 'value': [{'name': 'margiestravelsearchindex'}]}\n",
          "name": "stdout"
        }
      ]
    },
    {
      "metadata": {
        "trusted": true
      },
      "cell_type": "code",
      "source": "# Create a skillset\nskillset_name = \"ourcogskills\"\n\nskillset_payload = {\n    \"name\": skillset_name,\n    \"description\":\n    \"Extract entities, detect language and extract key-phrases\",\n    \"skills\":\n    [\n        \n        {\n          \"description\": \"Extracts text (plain and structured) from image.\",\n          \"@odata.type\": \"#Microsoft.Skills.Vision.OcrSkill\",\n          \"context\": \"/document/normalized_images/*\",\n          \"defaultLanguageCode\": \"en\",\n          \"detectOrientation\": True,\n          \"inputs\": [\n            {\n              \"name\": \"image\",\n              \"source\": \"/document/normalized_images/*\"\n            }\n          ],\n          \"outputs\": [\n            {\n              \"name\": \"text\",\n              \"targetName\": \"ocr_text\"\n            },\n            {\n              \"name\": \"layoutText\",\n              \"targetName\": \"ocr_layout_text\"\n            }\n          ]\n        },\n        {\n          \"@odata.type\": \"#Microsoft.Skills.Text.MergeSkill\",\n          \"description\": \"Create merged_text, which includes all the textual representation of each image inserted at the right location in the content field.\",\n          \"context\": \"/document\",\n          \"insertPreTag\": \" \",\n          \"insertPostTag\": \" \",\n          \"inputs\": [\n            {\n              \"name\":\"text\", \"source\": \"/document/content\"\n            },\n            {\n              \"name\": \"itemsToInsert\", \"source\": \"/document/normalized_images/*/ocr_text\"\n            }\n           \n          ],\n          \"outputs\": [\n            {\n              \"name\": \"mergedText\", \"targetName\" : \"merged_text\"\n            }\n          ]\n        },\n        {\n            \"description\": \"Extract image analysis.\",\n            \"@odata.type\": \"#Microsoft.Skills.Vision.ImageAnalysisSkill\",\n            \"context\": \"/document/normalized_images/*\",\n            \"defaultLanguageCode\": \"en\",\n            \"visualFeatures\": [                \n                \"Description\"\n            ],\n            \"inputs\": [\n                {\n                    \"name\": \"image\",\n                    \"source\": \"/document/normalized_images/*\"\n                }\n            ],\n            \"outputs\": [\n                {\n                    \"name\": \"description\", \"targetName\": \"image_description\"\n                }\n            ]\n        },\n        {\n            \"@odata.type\": \"#Microsoft.Skills.Text.EntityRecognitionSkill\",\n            \"categories\": [\"Organization\",\"Person\",\"Location\",\"Datetime\", \"URL\"],\n            \"defaultLanguageCode\": \"en\",\n            \"inputs\": [\n                {\n                    \"name\": \"text\", \"source\": \"/document/content\"\n                }\n            ],\n            \"outputs\": [\n                {\n                    \"name\": \"organizations\", \"targetName\": \"organizations\"\n                },\n                {\n                    \"name\": \"persons\", \"targetName\": \"people\"\n                },\n                {\n                    \"name\": \"locations\", \"targetName\": \"locations\"\n                },\n                {\n                    \"name\": \"dateTimes\", \"targetName\": \"dateTimes\"\n                } ,\n                {\n                    \"name\": \"urls\", \"targetName\": \"urls\"\n                }\n\n            ]\n        },\n        {\n            \"@odata.type\": \"#Microsoft.Skills.Text.KeyPhraseExtractionSkill\",\n            \"inputs\": [\n              {\n                \"name\": \"text\",\n                \"source\": \"/document/content\"\n              }\n            ],\n            \"outputs\": [\n              {\n                \"name\": \"keyPhrases\",\n                \"targetName\": \"myKeyPhrases\"\n              }\n            ]\n          },\n        {\n            \"@odata.type\": \"#Microsoft.Skills.Text.SentimentSkill\",\n            \"inputs\": [\n                {\n                    \"name\": \"text\",\n                    \"source\": \"/document/content\"\n                }\n                    ],\n            \"outputs\": [\n                {\n                    \"name\": \"score\",\n                    \"targetName\": \"mySentiment\"\n                }\n                    ]\n        },\n        {\n            \"@odata.type\": \"#Microsoft.Skills.Custom.WebApiSkill\",\n            \"description\": \"Our text analytics skill.\",\n            \"uri\": \"https://hack14func.azurewebsites.net/api/WordStuff?code=hA2fi3TMWxAjGKyUpKyMMGcIxWGMSEPU7oyp0K4U6kbstZDZpaAK/A==\",\n              \"inputs\": [\n                {\n                  \"name\": \"text\",\n                  \"source\": \"/document/merged_text\"\n                }\n              ],\n              \"outputs\": [\n                {\n                  \"name\": \"words\",\n                  \"targetName\": \"frequentwords\"\n                }\n              ]\n          }\n    ]\n}\n\nr = requests.put(endpoint + \"/skillsets/\" + skillset_name,\n                 data=json.dumps(skillset_payload), headers=headers, params=params)\nprint(r.status_code)",
      "execution_count": 244,
      "outputs": [
        {
          "output_type": "stream",
          "text": "204\n",
          "name": "stdout"
        }
      ]
    },
    {
      "metadata": {
        "trusted": true
      },
      "cell_type": "code",
      "source": "index_name = \"margiestravelsearchindex\"\n\nindex_payload = {\n    \"name\": index_name,\n    \"fields\": [{\n        \"name\": \"id\",\n        \"type\": \"Edm.String\",\n        \"key\": \"true\",\n        \"filterable\": \"false\"\n    }, {\n        \"name\": \"url\",\n        \"type\": \"Edm.String\",\n        \"searchable\": \"false\",\n        \"filterable\": \"false\",\n        \"sortable\": \"false\",\n        \"facetable\": \"false\"\n    }, {\n        \"name\": \"file_name\",\n        \"type\": \"Edm.String\",\n        \"searchable\": \"true\",\n        \"filterable\": \"false\",\n        \"sortable\": \"false\",\n        \"facetable\": \"false\",\n        \"analyzer\": \"en.lucene\"\n    }, {\n        \"name\": \"content\",\n        \"type\": \"Edm.String\",\n        \"searchable\": \"true\",\n        \"filterable\": \"false\",\n        \"sortable\": \"false\",\n        \"facetable\": \"false\",\n        \"analyzer\": \"en.lucene\",\n        \"synonymMaps\": [\"mysynonymmap\"]\n    }, {\n        \"name\": \"size\",\n        \"type\": \"Edm.Int64\",\n        \"searchable\": \"false\",\n        \"filterable\": \"false\",\n        \"sortable\": \"false\",\n        \"facetable\": \"false\"\n    }, {\n        \"name\": \"last_modified\",\n        \"type\": \"Edm.DateTimeOffset\",\n        \"searchable\": \"false\",\n        \"filterable\": \"true\",\n        \"sortable\": \"false\",\n        \"facetable\": \"false\"\n    }, {\n        \"name\": \"myKeyPhrases\",\n        \"type\": \"Collection(Edm.String)\",\n        \"searchable\": \"true\",\n        \"sortable\": \"false\",\n        \"filterable\": \"false\",\n        \"facetable\": \"false\",\n        \"synonymMaps\": [\"mysynonymmap\"]\n    }, {\n        \"name\": \"organizations\",\n        \"type\": \"Collection(Edm.String)\",\n        \"searchable\": \"true\",\n        \"sortable\": \"false\",\n        \"filterable\": \"false\",\n        \"facetable\": \"false\",\n        \"synonymMaps\": [\"mysynonymmap\"]\n    }, {\n        \"name\": \"locations\",\n        \"type\": \"Collection(Edm.String)\",\n        \"searchable\": \"true\",\n        \"sortable\": \"false\",\n        \"filterable\": \"false\",\n        \"facetable\": \"false\",\n        \"synonymMaps\": [\"mysynonymmap\"]\n    }, {\n        \"name\": \"people\",\n        \"type\": \"Collection(Edm.String)\",\n        \"searchable\": \"true\",\n        \"sortable\": \"false\",\n        \"filterable\": \"false\",\n        \"facetable\": \"false\"\n    }, {\n        \"name\": \"dateTimes\",\n        \"type\": \"Collection(Edm.String)\",\n        \"searchable\": \"true\",\n        \"sortable\": \"false\",\n        \"filterable\": \"false\",\n        \"facetable\": \"false\"\n    }, {\n        \"name\": \"urls\",\n        \"type\": \"Collection(Edm.String)\",\n        \"searchable\": \"true\",\n        \"sortable\": \"false\",\n        \"filterable\": \"true\",\n        \"facetable\": \"false\"\n    }, {\n        \"name\": \"mySentiment\",\n        \"type\": \"Edm.Double\",\n        \"searchable\": \"false\",\n        \"sortable\": \"false\",\n        \"filterable\": \"true\",\n        \"facetable\": \"false\"\n    }, {\n        \"name\": \"image_description\",\n        \"type\": \"Collection(Edm.ComplexType)\",\n        \"fields\": [{\n            \"name\": \"tags\",\n            \"type\": \"Collection(Edm.String)\",\n            \"searchable\": True,\n            \"filterable\": False,\n            \"facetable\": False,\n            \"synonymMaps\": [\"mysynonymmap\"]\n        }, {\n            \"name\": \"captions\",\n            \"type\": \"Collection(Edm.ComplexType)\",\n            \"fields\": [{\n                \"name\": \"text\",\n                \"type\": \"Edm.String\",\n                \"searchable\": True,\n                \"filterable\": False,\n                \"facetable\": False,\n                \"synonymMaps\": [\"mysynonymmap\"]\n            }, {\n                \"name\": \"confidence\",\n                \"type\": \"Edm.Double\",\n                \"searchable\": False,\n                \"filterable\": False,\n                \"facetable\": False\n            }]\n        }]\n    }, {\n        \"name\": \"ocr_text\",\n        \"type\": \"Collection(Edm.String)\",\n        \"searchable\": \"true\",\n        \"filterable\": \"false\",\n        \"sortable\": \"false\",\n        \"facetable\": \"false\",\n        \"analyzer\": \"en.lucene\",\n        \"synonymMaps\": [\"mysynonymmap\"]\n    }, {\n        \"name\": \"frequentwords\",\n        \"type\": \"Collection(Edm.String)\",\n        \"searchable\": \"true\",\n        \"sortable\": \"false\",\n        \"filterable\": \"true\",\n        \"facetable\": \"false\",\n        \"synonymMaps\": [\"mysynonymmap\"]\n    }],\n    \"scoringProfiles\": [\n        {\n        \"name\": \"jasonsScoringProfile\",\n        \"functions\": [\n            {\n                \"type\": \"freshness\",\n                \"fieldName\": \"last_modified\",\n                \"boost\": 10,\n                \"interpolation\": \"linear\",\n                \"freshness\": {\n                    \"boostingDuration\": \"P1D\"\n            }\n        }\n        ]\n    }\n    ], \n    \"suggesters\": [{\n        \"name\": \"suggester\",\n        \"searchMode\": \"analyzingInfixMatching\",\n        \"sourceFields\": [\"locations\"]\n    }]\n}",
      "execution_count": 245,
      "outputs": []
    },
    {
      "metadata": {
        "trusted": true
      },
      "cell_type": "code",
      "source": "r = requests.delete(endpoint + \"/indexes/\" + index_name, headers=headers, params=params)\nprint(r.status_code)\n\nr = requests.put(endpoint + \"/indexes/\" + index_name,\n                 data=json.dumps(index_payload), headers=headers, params=params)\nprint(r.status_code)\nprint(r.text)",
      "execution_count": 246,
      "outputs": [
        {
          "output_type": "stream",
          "text": "204\n201\n{\"@odata.context\":\"https://qnafaq-aslv4rot7gumsy4.search.windows.net/$metadata#indexes/$entity\",\"@odata.etag\":\"\\\"0x8D73C9CE0B8D8D3\\\"\",\"name\":\"margiestravelsearchindex\",\"defaultScoringProfile\":null,\"fields\":[{\"name\":\"id\",\"type\":\"Edm.String\",\"searchable\":true,\"filterable\":false,\"retrievable\":true,\"sortable\":true,\"facetable\":true,\"key\":true,\"indexAnalyzer\":null,\"searchAnalyzer\":null,\"analyzer\":null,\"synonymMaps\":[]},{\"name\":\"url\",\"type\":\"Edm.String\",\"searchable\":false,\"filterable\":false,\"retrievable\":true,\"sortable\":false,\"facetable\":false,\"key\":false,\"indexAnalyzer\":null,\"searchAnalyzer\":null,\"analyzer\":null,\"synonymMaps\":[]},{\"name\":\"file_name\",\"type\":\"Edm.String\",\"searchable\":true,\"filterable\":false,\"retrievable\":true,\"sortable\":false,\"facetable\":false,\"key\":false,\"indexAnalyzer\":null,\"searchAnalyzer\":null,\"analyzer\":\"en.lucene\",\"synonymMaps\":[]},{\"name\":\"content\",\"type\":\"Edm.String\",\"searchable\":true,\"filterable\":false,\"retrievable\":true,\"sortable\":false,\"facetable\":false,\"key\":false,\"indexAnalyzer\":null,\"searchAnalyzer\":null,\"analyzer\":\"en.lucene\",\"synonymMaps\":[\"mysynonymmap\"]},{\"name\":\"size\",\"type\":\"Edm.Int64\",\"searchable\":false,\"filterable\":false,\"retrievable\":true,\"sortable\":false,\"facetable\":false,\"key\":false,\"indexAnalyzer\":null,\"searchAnalyzer\":null,\"analyzer\":null,\"synonymMaps\":[]},{\"name\":\"last_modified\",\"type\":\"Edm.DateTimeOffset\",\"searchable\":false,\"filterable\":true,\"retrievable\":true,\"sortable\":false,\"facetable\":false,\"key\":false,\"indexAnalyzer\":null,\"searchAnalyzer\":null,\"analyzer\":null,\"synonymMaps\":[]},{\"name\":\"myKeyPhrases\",\"type\":\"Collection(Edm.String)\",\"searchable\":true,\"filterable\":false,\"retrievable\":true,\"sortable\":false,\"facetable\":false,\"key\":false,\"indexAnalyzer\":null,\"searchAnalyzer\":null,\"analyzer\":null,\"synonymMaps\":[\"mysynonymmap\"]},{\"name\":\"organizations\",\"type\":\"Collection(Edm.String)\",\"searchable\":true,\"filterable\":false,\"retrievable\":true,\"sortable\":false,\"facetable\":false,\"key\":false,\"indexAnalyzer\":null,\"searchAnalyzer\":null,\"analyzer\":null,\"synonymMaps\":[\"mysynonymmap\"]},{\"name\":\"locations\",\"type\":\"Collection(Edm.String)\",\"searchable\":true,\"filterable\":false,\"retrievable\":true,\"sortable\":false,\"facetable\":false,\"key\":false,\"indexAnalyzer\":null,\"searchAnalyzer\":null,\"analyzer\":null,\"synonymMaps\":[\"mysynonymmap\"]},{\"name\":\"people\",\"type\":\"Collection(Edm.String)\",\"searchable\":true,\"filterable\":false,\"retrievable\":true,\"sortable\":false,\"facetable\":false,\"key\":false,\"indexAnalyzer\":null,\"searchAnalyzer\":null,\"analyzer\":null,\"synonymMaps\":[]},{\"name\":\"dateTimes\",\"type\":\"Collection(Edm.String)\",\"searchable\":true,\"filterable\":false,\"retrievable\":true,\"sortable\":false,\"facetable\":false,\"key\":false,\"indexAnalyzer\":null,\"searchAnalyzer\":null,\"analyzer\":null,\"synonymMaps\":[]},{\"name\":\"urls\",\"type\":\"Collection(Edm.String)\",\"searchable\":true,\"filterable\":true,\"retrievable\":true,\"sortable\":false,\"facetable\":false,\"key\":false,\"indexAnalyzer\":null,\"searchAnalyzer\":null,\"analyzer\":null,\"synonymMaps\":[]},{\"name\":\"mySentiment\",\"type\":\"Edm.Double\",\"searchable\":false,\"filterable\":true,\"retrievable\":true,\"sortable\":false,\"facetable\":false,\"key\":false,\"indexAnalyzer\":null,\"searchAnalyzer\":null,\"analyzer\":null,\"synonymMaps\":[]},{\"name\":\"image_description\",\"type\":\"Collection(Edm.ComplexType)\",\"fields\":[{\"name\":\"tags\",\"type\":\"Collection(Edm.String)\",\"searchable\":true,\"filterable\":false,\"retrievable\":true,\"sortable\":false,\"facetable\":false,\"key\":false,\"indexAnalyzer\":null,\"searchAnalyzer\":null,\"analyzer\":null,\"synonymMaps\":[\"mysynonymmap\"]},{\"name\":\"captions\",\"type\":\"Collection(Edm.ComplexType)\",\"fields\":[{\"name\":\"text\",\"type\":\"Edm.String\",\"searchable\":true,\"filterable\":false,\"retrievable\":true,\"sortable\":false,\"facetable\":false,\"key\":false,\"indexAnalyzer\":null,\"searchAnalyzer\":null,\"analyzer\":null,\"synonymMaps\":[\"mysynonymmap\"]},{\"name\":\"confidence\",\"type\":\"Edm.Double\",\"searchable\":false,\"filterable\":false,\"retrievable\":true,\"sortable\":false,\"facetable\":false,\"key\":false,\"indexAnalyzer\":null,\"searchAnalyzer\":null,\"analyzer\":null,\"synonymMaps\":[]}]}]},{\"name\":\"ocr_text\",\"type\":\"Collection(Edm.String)\",\"searchable\":true,\"filterable\":false,\"retrievable\":true,\"sortable\":false,\"facetable\":false,\"key\":false,\"indexAnalyzer\":null,\"searchAnalyzer\":null,\"analyzer\":\"en.lucene\",\"synonymMaps\":[\"mysynonymmap\"]},{\"name\":\"frequentwords\",\"type\":\"Collection(Edm.String)\",\"searchable\":true,\"filterable\":true,\"retrievable\":true,\"sortable\":false,\"facetable\":false,\"key\":false,\"indexAnalyzer\":null,\"searchAnalyzer\":null,\"analyzer\":null,\"synonymMaps\":[\"mysynonymmap\"]}],\"scoringProfiles\":[{\"name\":\"jasonsScoringProfile\",\"functionAggregation\":\"sum\",\"text\":null,\"functions\":[{\"fieldName\":\"last_modified\",\"interpolation\":\"linear\",\"type\":\"freshness\",\"boost\":10.0,\"freshness\":{\"boostingDuration\":\"P1D\"},\"magnitude\":null,\"distance\":null,\"tag\":null}]}],\"corsOptions\":null,\"suggesters\":[{\"name\":\"suggester\",\"searchMode\":\"analyzingInfixMatching\",\"sourceFields\":[\"locations\"]}],\"analyzers\":[],\"tokenizers\":[],\"tokenFilters\":[],\"charFilters\":[]}\n",
          "name": "stdout"
        }
      ]
    },
    {
      "metadata": {
        "trusted": true
      },
      "cell_type": "code",
      "source": "synonym_payload = {\n   \"name\":\"mysynonymmap\",\n   \"format\":\"solr\",\n   \"synonyms\": \"USA, United States, America United States of America\\nUK, United Kingdom, Britain, Great Britain\\nUAE, United Arab Emirates, Emirates\\n\"\n}",
      "execution_count": 247,
      "outputs": []
    },
    {
      "metadata": {
        "trusted": true
      },
      "cell_type": "code",
      "source": "r = requests.post(endpoint + \"/synonymmaps\",\n                 data=json.dumps(synonym_payload), headers=headers, params=params)\nprint(r.status_code)",
      "execution_count": 248,
      "outputs": [
        {
          "output_type": "stream",
          "text": "400\n",
          "name": "stdout"
        }
      ]
    },
    {
      "metadata": {
        "trusted": true
      },
      "cell_type": "code",
      "source": "synonym_payload\n",
      "execution_count": 249,
      "outputs": [
        {
          "output_type": "execute_result",
          "execution_count": 249,
          "data": {
            "text/plain": "{'format': 'solr',\n 'name': 'mysynonymmap',\n 'synonyms': 'USA, United States, America United States of America\\nUK, United Kingdom, Britain, Great Britain\\nUAE, United Arab Emirates, Emirates\\n'}"
          },
          "metadata": {}
        }
      ]
    },
    {
      "metadata": {
        "trusted": true
      },
      "cell_type": "code",
      "source": "indexer_payload = {\n    'name': index_name,\n    'dataSourceName': 'blob-datasource',\n    'skillsetName': skillset_name,\n    'targetIndexName': index_name,\n    'fieldMappings': [{\n        \"sourceFieldName\": \"metadata_storage_size\",\n        \"targetFieldName\": \"size\"\n    }, {\n        \"sourceFieldName\": \"metadata_storage_path\",\n        \"targetFieldName\": \"url\"\n    }, {\n        \"sourceFieldName\": \"metadata_storage_last_modified\",\n        \"targetFieldName\": \"last_modified\"\n    }, {\n        \"sourceFieldName\": \"metadata_storage_name\",\n        \"targetFieldName\": \"file_name\"\n    }, {\n        \"sourceFieldName\": \"metadata_storage_path\",\n        \"targetFieldName\": \"id\",\n        \"mappingFunction\": {\n            \"name\": \"base64Encode\"\n        }\n    }],\n    \"outputFieldMappings\": [{\n        \"sourceFieldName\": \"/document/organizations\",\n        \"targetFieldName\": \"organizations\"\n    }, {\n        \"sourceFieldName\": \"/document/people\",\n        \"targetFieldName\": \"people\"\n    }, {\n        \"sourceFieldName\": \"/document/locations\",\n        \"targetFieldName\": \"locations\"\n    }, {\n        \"sourceFieldName\": \"/document/dateTimes\",\n        \"targetFieldName\": \"dateTimes\"\n    }, {\n        \"sourceFieldName\": \"/document/urls\",\n        \"targetFieldName\": \"urls\"\n    }, {\n        \"sourceFieldName\": \"/document/myKeyPhrases\",\n        \"targetFieldName\": \"myKeyPhrases\"\n    }, {\n        \"sourceFieldName\": \"/document/mySentiment\",\n        \"targetFieldName\": \"mySentiment\"\n    },\n        {\n            \"sourceFieldName\": \"/document/normalized_images/*/image_description\",\n            \"targetFieldName\": \"image_description\"\n        }, \n        {\n        \"sourceFieldName\": \"/document/normalized_images/*/ocr_text\",\n        \"targetFieldName\": \"ocr_text\"\n    },\n    {\n        \"sourceFieldName\": \"/document/merged_text\",\n        \"targetFieldName\": \"content\"\n    },\n    {\n        \"sourceFieldName\": \"/document/frequentwords\",\n        \"targetFieldName\": \"frequentwords\"\n    }],\n    \"parameters\":\n      {\n        \"configuration\": \n        {\n            \"dataToExtract\": \"contentAndMetadata\",\n            \"imageAction\": \"generateNormalizedImages\"\n        }\n      }\n    \n}",
      "execution_count": 250,
      "outputs": []
    },
    {
      "metadata": {
        "trusted": true
      },
      "cell_type": "code",
      "source": "r = requests.delete(endpoint + \"/indexers/\" + index_name, headers=headers, params=params)\nprint(r.status_code)\n\nr = requests.put(endpoint + \"/indexers/\" + index_name,\n                 data=json.dumps(indexer_payload), headers=headers, params=params)\nprint(r.status_code)",
      "execution_count": 251,
      "outputs": [
        {
          "output_type": "stream",
          "text": "204\n201\n",
          "name": "stdout"
        }
      ]
    },
    {
      "metadata": {
        "trusted": true
      },
      "cell_type": "code",
      "source": "",
      "execution_count": null,
      "outputs": []
    },
    {
      "metadata": {
        "trusted": true
      },
      "cell_type": "code",
      "source": "searchendpoint = \"https://qnafaq-aslv4rot7gumsy4.search.windows.net/indexes/margiestravelsearchindex/docs/search?api-version=2019-05-06\"\nsearchrequest =   {  \"select\":\"file_name,frequentwords,content\",\n     \"count\": True,\n      \"filter\": \"search.ismatch('good','frequentwords')\",\n      \"queryType\": \"full\", \n      \"searchMode\": \"all\"                    \n        }\n\nr=requests.post(url=searchendpoint,json = searchrequest,headers=headers)\nprint(r)\nr.text",
      "execution_count": 252,
      "outputs": [
        {
          "output_type": "stream",
          "text": "<Response [200]>\n",
          "name": "stdout"
        },
        {
          "output_type": "execute_result",
          "execution_count": 252,
          "data": {
            "text/plain": "'{\"@odata.context\":\"https://qnafaq-aslv4rot7gumsy4.search.windows.net/indexes(\\'margiestravelsearchindex\\')/$metadata#docs(*)\",\"@odata.count\":0,\"value\":[]}'"
          },
          "metadata": {}
        }
      ]
    },
    {
      "metadata": {
        "trusted": true
      },
      "cell_type": "code",
      "source": "",
      "execution_count": null,
      "outputs": []
    },
    {
      "metadata": {
        "trusted": true
      },
      "cell_type": "code",
      "source": "",
      "execution_count": null,
      "outputs": []
    },
    {
      "metadata": {
        "trusted": true
      },
      "cell_type": "code",
      "source": "",
      "execution_count": null,
      "outputs": []
    }
  ],
  "metadata": {
    "kernelspec": {
      "name": "python3",
      "display_name": "Python 3",
      "language": "python"
    },
    "language_info": {
      "mimetype": "text/x-python",
      "nbconvert_exporter": "python",
      "name": "python",
      "pygments_lexer": "ipython3",
      "version": "3.5.4",
      "file_extension": ".py",
      "codemirror_mode": {
        "version": 3,
        "name": "ipython"
      }
    }
  },
  "nbformat": 4,
  "nbformat_minor": 2
}