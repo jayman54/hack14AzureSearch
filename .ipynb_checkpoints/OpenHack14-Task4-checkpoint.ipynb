{
  "cells": [
    {
      "metadata": {
        "trusted": true
      },
      "cell_type": "code",
      "source": "import json\nimport requests\nfrom pprint import pprint",
      "execution_count": 142,
      "outputs": []
    },
    {
      "metadata": {
        "trusted": true
      },
      "cell_type": "code",
      "source": "endpoint = 'https://qnafaq-aslv4rot7gumsy4.search.windows.net/'\napi_version = '?api-version=2019-05-06'\nheaders = {'Content-Type': 'application/json',\n        'api-key': 'B08826F08F7F9A7C4B26F2D315FFFDD3' }\nparams = { 'api-version': '2019-05-06' }",
      "execution_count": 143,
      "outputs": []
    },
    {
      "metadata": {
        "trusted": true
      },
      "cell_type": "code",
      "source": "url = endpoint + \"indexes\" + api_version + \"&$select=name\"\nresponse  = requests.get(url, headers=headers)\nindex_list = response.json()\npprint(index_list)",
      "execution_count": 144,
      "outputs": [
        {
          "output_type": "stream",
          "text": "{'@odata.context': 'https://qnafaq-aslv4rot7gumsy4.search.windows.net/$metadata#indexes(name)',\n 'value': [{'name': 'margiestravelsearchindex'}]}\n",
          "name": "stdout"
        }
      ]
    },
    {
      "metadata": {
        "trusted": true
      },
      "cell_type": "code",
      "source": "# Create a skillset\nskillset_name = \"ourcogskills\"\n\nskillset_payload = {\n    \"name\": skillset_name,\n    \"description\":\n    \"Extract entities, detect language and extract key-phrases\",\n    \"skills\":\n    [\n        {\n          \"description\": \"Extracts text (plain and structured) from image.\",\n          \"@odata.type\": \"#Microsoft.Skills.Vision.OcrSkill\",\n          \"context\": \"/document/normalized_images/*\",\n          \"defaultLanguageCode\": \"en\",\n          \"detectOrientation\": True,\n          \"inputs\": [\n            {\n              \"name\": \"image\",\n              \"source\": \"/document/normalized_images/*\"\n            }\n          ],\n          \"outputs\": [\n            {\n              \"name\": \"text\",\n              \"targetName\": \"ocr_text\"\n            },\n            {\n              \"name\": \"layoutText\",\n              \"targetName\": \"ocr_layout_text\"\n            }\n          ]\n        },\n        {\n          \"@odata.type\": \"#Microsoft.Skills.Text.MergeSkill\",\n          \"description\": \"Create merged_text, which includes all the textual representation of each image inserted at the right location in the content field.\",\n          \"context\": \"/document\",\n          \"insertPreTag\": \" \",\n          \"insertPostTag\": \" \",\n          \"inputs\": [\n            {\n              \"name\":\"text\", \"source\": \"/document/content\"\n            },\n            {\n              \"name\": \"itemsToInsert\", \"source\": \"/document/normalized_images/*/ocr_text\"\n            }\n           \n          ],\n          \"outputs\": [\n            {\n              \"name\": \"mergedText\", \"targetName\" : \"merged_text\"\n            }\n          ]\n        },\n        {\n            \"description\": \"Extract image analysis.\",\n            \"@odata.type\": \"#Microsoft.Skills.Vision.ImageAnalysisSkill\",\n            \"context\": \"/document/normalized_images/*\",\n            \"defaultLanguageCode\": \"en\",\n            \"visualFeatures\": [                \n                \"Description\"\n            ],\n            \"inputs\": [\n                {\n                    \"name\": \"image\",\n                    \"source\": \"/document/normalized_images/*\"\n                }\n            ],\n            \"outputs\": [\n                {\n                    \"name\": \"description\", \"targetName\": \"image_description\"\n                }\n            ]\n        },\n        {\n            \"@odata.type\": \"#Microsoft.Skills.Text.EntityRecognitionSkill\",\n            \"categories\": [\"Organization\",\"Person\",\"Location\",\"Datetime\", \"URL\"],\n            \"defaultLanguageCode\": \"en\",\n            \"inputs\": [\n                {\n                    \"name\": \"text\", \"source\": \"/document/content\"\n                }\n            ],\n            \"outputs\": [\n                {\n                    \"name\": \"organizations\", \"targetName\": \"organizations\"\n                },\n                {\n                    \"name\": \"persons\", \"targetName\": \"people\"\n                },\n                {\n                    \"name\": \"locations\", \"targetName\": \"locations\"\n                },\n                {\n                    \"name\": \"dateTimes\", \"targetName\": \"dateTimes\"\n                } ,\n                {\n                    \"name\": \"urls\", \"targetName\": \"urls\"\n                }\n\n            ]\n        },\n        {\n            \"@odata.type\": \"#Microsoft.Skills.Text.KeyPhraseExtractionSkill\",\n            \"inputs\": [\n              {\n                \"name\": \"text\",\n                \"source\": \"/document/content\"\n              }\n            ],\n            \"outputs\": [\n              {\n                \"name\": \"keyPhrases\",\n                \"targetName\": \"myKeyPhrases\"\n              }\n            ]\n          },\n        {\n            \"@odata.type\": \"#Microsoft.Skills.Text.SentimentSkill\",\n            \"inputs\": [\n                {\n                    \"name\": \"text\",\n                    \"source\": \"/document/content\"\n                }\n                    ],\n            \"outputs\": [\n                {\n                    \"name\": \"score\",\n                    \"targetName\": \"mySentiment\"\n                }\n                    ]\n        }\n    ]\n}\n\nr = requests.put(endpoint + \"/skillsets/\" + skillset_name,\n                 data=json.dumps(skillset_payload), headers=headers, params=params)\nprint(r.status_code)",
      "execution_count": 145,
      "outputs": [
        {
          "output_type": "stream",
          "text": "204\n",
          "name": "stdout"
        }
      ]
    },
    {
      "metadata": {
        "trusted": true
      },
      "cell_type": "code",
      "source": "index_name = \"margiestravelsearchindex\"\n\nindex_payload = {\n    \"name\": index_name,\n    \"fields\": [{\n        \"name\": \"id\",\n        \"type\": \"Edm.String\",\n        \"key\": \"true\",\n        \"filterable\": \"false\"\n    }, {\n        \"name\": \"url\",\n        \"type\": \"Edm.String\",\n        \"searchable\": \"false\",\n        \"filterable\": \"false\",\n        \"sortable\": \"false\",\n        \"facetable\": \"false\"\n    }, {\n        \"name\": \"file_name\",\n        \"type\": \"Edm.String\",\n        \"searchable\": \"true\",\n        \"filterable\": \"false\",\n        \"sortable\": \"false\",\n        \"facetable\": \"false\",\n        \"analyzer\": \"en.lucene\"\n    }, {\n        \"name\": \"content\",\n        \"type\": \"Edm.String\",\n        \"searchable\": \"true\",\n        \"filterable\": \"false\",\n        \"sortable\": \"false\",\n        \"facetable\": \"false\",\n        \"analyzer\": \"en.lucene\"\n    }, {\n        \"name\": \"size\",\n        \"type\": \"Edm.Int64\",\n        \"searchable\": \"false\",\n        \"filterable\": \"false\",\n        \"sortable\": \"false\",\n        \"facetable\": \"false\"\n    }, {\n        \"name\": \"last_modified\",\n        \"type\": \"Edm.DateTimeOffset\",\n        \"searchable\": \"false\",\n        \"filterable\": \"false\",\n        \"sortable\": \"false\",\n        \"facetable\": \"false\"\n    }, {\n        \"name\": \"myKeyPhrases\",\n        \"type\": \"Collection(Edm.String)\",\n        \"searchable\": \"true\",\n        \"sortable\": \"false\",\n        \"filterable\": \"false\",\n        \"facetable\": \"false\"\n    }, {\n        \"name\": \"organizations\",\n        \"type\": \"Collection(Edm.String)\",\n        \"searchable\": \"true\",\n        \"sortable\": \"false\",\n        \"filterable\": \"false\",\n        \"facetable\": \"false\"\n    }, {\n        \"name\": \"locations\",\n        \"type\": \"Collection(Edm.String)\",\n        \"searchable\": \"true\",\n        \"sortable\": \"false\",\n        \"filterable\": \"false\",\n        \"facetable\": \"false\"\n    }, {\n        \"name\": \"people\",\n        \"type\": \"Collection(Edm.String)\",\n        \"searchable\": \"true\",\n        \"sortable\": \"false\",\n        \"filterable\": \"false\",\n        \"facetable\": \"false\"\n    }, {\n        \"name\": \"dateTimes\",\n        \"type\": \"Collection(Edm.String)\",\n        \"searchable\": \"true\",\n        \"sortable\": \"false\",\n        \"filterable\": \"false\",\n        \"facetable\": \"false\"\n    }, {\n        \"name\": \"urls\",\n        \"type\": \"Collection(Edm.String)\",\n        \"searchable\": \"true\",\n        \"sortable\": \"false\",\n        \"filterable\": \"true\",\n        \"facetable\": \"false\"\n    }, {\n        \"name\": \"mySentiment\",\n        \"type\": \"Edm.Double\",\n        \"searchable\": \"false\",\n        \"sortable\": \"false\",\n        \"filterable\": \"true\",\n        \"facetable\": \"false\"\n    },\n        {\n            \"name\": \"image_description\",\n            \"type\": \"Collection(Edm.ComplexType)\",\n            \"fields\": [\n                {\n                    \"name\": \"tags\",\n                    \"type\": \"Collection(Edm.String)\",\n                    \"searchable\": True,\n                    \"filterable\": False,\n                    \"facetable\": False\n                },\n                {\n                    \"name\": \"captions\",\n                    \"type\": \"Collection(Edm.ComplexType)\",\n                    \"fields\": [\n                        {\n                            \"name\": \"text\",\n                            \"type\": \"Edm.String\",\n                            \"searchable\": True,\n                            \"filterable\": False,\n                            \"facetable\": False\n                        },\n                        {\n                            \"name\": \"confidence\",\n                            \"type\": \"Edm.Double\",\n                            \"searchable\": False,\n                            \"filterable\": False,\n                            \"facetable\": False\n                        }\n                    ]\n                }\n            ]\n        }, \n        {\n        \"name\": \"ocr_text\",\n        \"type\": \"Collection(Edm.String)\",\n        \"searchable\": \"true\",\n        \"filterable\": \"false\",\n        \"sortable\": \"false\",\n        \"facetable\": \"false\",\n        \"analyzer\": \"en.lucene\"\n    }\n    ]\n}",
      "execution_count": 146,
      "outputs": []
    },
    {
      "metadata": {
        "trusted": true
      },
      "cell_type": "code",
      "source": "r = requests.delete(endpoint + \"/indexes/\" + index_name, headers=headers, params=params)\nprint(r.status_code)\n\nr = requests.put(endpoint + \"/indexes/\" + index_name,\n                 data=json.dumps(index_payload), headers=headers, params=params)\nprint(r.status_code)",
      "execution_count": 147,
      "outputs": [
        {
          "output_type": "stream",
          "text": "204\n201\n",
          "name": "stdout"
        }
      ]
    },
    {
      "metadata": {
        "trusted": true
      },
      "cell_type": "code",
      "source": "indexer_payload = {\n    'name': index_name,\n    'dataSourceName': 'blob-datasource',\n    'skillsetName': skillset_name,\n    'targetIndexName': index_name,\n    'fieldMappings': [{\n        \"sourceFieldName\": \"metadata_storage_size\",\n        \"targetFieldName\": \"size\"\n    }, {\n        \"sourceFieldName\": \"metadata_storage_path\",\n        \"targetFieldName\": \"url\"\n    }, {\n        \"sourceFieldName\": \"metadata_storage_last_modified\",\n        \"targetFieldName\": \"last_modified\"\n    }, {\n        \"sourceFieldName\": \"metadata_storage_name\",\n        \"targetFieldName\": \"file_name\"\n    }, {\n        \"sourceFieldName\": \"metadata_storage_path\",\n        \"targetFieldName\": \"id\",\n        \"mappingFunction\": {\n            \"name\": \"base64Encode\"\n        }\n    }],\n    \"outputFieldMappings\": [{\n        \"sourceFieldName\": \"/document/organizations\",\n        \"targetFieldName\": \"organizations\"\n    }, {\n        \"sourceFieldName\": \"/document/people\",\n        \"targetFieldName\": \"people\"\n    }, {\n        \"sourceFieldName\": \"/document/locations\",\n        \"targetFieldName\": \"locations\"\n    }, {\n        \"sourceFieldName\": \"/document/dateTimes\",\n        \"targetFieldName\": \"dateTimes\"\n    }, {\n        \"sourceFieldName\": \"/document/urls\",\n        \"targetFieldName\": \"urls\"\n    }, {\n        \"sourceFieldName\": \"/document/myKeyPhrases\",\n        \"targetFieldName\": \"myKeyPhrases\"\n    }, {\n        \"sourceFieldName\": \"/document/mySentiment\",\n        \"targetFieldName\": \"mySentiment\"\n    },\n        {\n            \"sourceFieldName\": \"/document/normalized_images/*/image_description\",\n            \"targetFieldName\": \"image_description\"\n        }, \n        {\n        \"sourceFieldName\": \"/document/normalized_images/*/ocr_text\",\n        \"targetFieldName\": \"ocr_text\"\n    },\n    {\n        \"sourceFieldName\": \"/document/merged_text\",\n        \"targetFieldName\": \"content\"\n    }],\n    \"parameters\":\n      {\n        \"configuration\": \n        {\n            \"dataToExtract\": \"contentAndMetadata\",\n            \"imageAction\": \"generateNormalizedImages\"\n        }\n      }\n    \n}",
      "execution_count": 148,
      "outputs": []
    },
    {
      "metadata": {
        "trusted": true
      },
      "cell_type": "code",
      "source": "r = requests.delete(endpoint + \"/indexers/\" + index_name, headers=headers, params=params)\nprint(r.status_code)\n\nr = requests.put(endpoint + \"/indexers/\" + index_name,\n                 data=json.dumps(indexer_payload), headers=headers, params=params)\nprint(r.status_code)",
      "execution_count": 149,
      "outputs": [
        {
          "output_type": "stream",
          "text": "204\n201\n",
          "name": "stdout"
        }
      ]
    },
    {
      "metadata": {
        "trusted": true
      },
      "cell_type": "code",
      "source": "searchendpoint = \"https://qnafaq-aslv4rot7gumsy4.search.windows.net/indexes/margiestravelsearchindex/docs/search?api-version=2019-05-06\"\nsearchrequest = {\n      \"count\": True,\n      \"search\": 'New York',\n      \"searchFields\":\"content\"\n    }\n\nr=requests.post(url=searchendpoint,json = searchrequest,headers=headers)\nprint(r)\nr.text",
      "execution_count": 150,
      "outputs": [
        {
          "output_type": "stream",
          "text": "<Response [200]>\n",
          "name": "stdout"
        },
        {
          "output_type": "execute_result",
          "execution_count": 150,
          "data": {
            "text/plain": "'{\"@odata.context\":\"https://qnafaq-aslv4rot7gumsy4.search.windows.net/indexes(\\'margiestravelsearchindex\\')/$metadata#docs(*)\",\"@odata.count\":0,\"value\":[]}'"
          },
          "metadata": {}
        }
      ]
    },
    {
      "metadata": {
        "trusted": true
      },
      "cell_type": "code",
      "source": "searchendpoint = \"https://qnafaq-aslv4rot7gumsy4.search.windows.net/indexes/margiestravelsearchindex/docs/search?api-version=2019-05-06\"\nsearchrequest =   {  \"select\":\"organizations,mySentiment\",\n     \"count\": True,\n      \"filter\": \"search.ismatch('Hotel','organizations')and mySentiment gt 0.5\",\n      \"queryType\": \"full\", \n      \"searchMode\": \"all\"                    \n        }\n\nr=requests.post(url=searchendpoint,json = searchrequest,headers=headers)\nprint(r)\nr.text",
      "execution_count": 151,
      "outputs": [
        {
          "output_type": "stream",
          "text": "<Response [200]>\n",
          "name": "stdout"
        },
        {
          "output_type": "execute_result",
          "execution_count": 151,
          "data": {
            "text/plain": "'{\"@odata.context\":\"https://qnafaq-aslv4rot7gumsy4.search.windows.net/indexes(\\'margiestravelsearchindex\\')/$metadata#docs(*)\",\"@odata.count\":0,\"value\":[]}'"
          },
          "metadata": {}
        }
      ]
    },
    {
      "metadata": {
        "trusted": true
      },
      "cell_type": "code",
      "source": "searchendpoint = \"https://qnafaq-aslv4rot7gumsy4.search.windows.net/indexes/margiestravelsearchindex/docs/search?api-version=2019-05-06\"\nsearchrequest =   {  \"select\":\"organizations,mySentiment\",\n     \"count\": True,\n      \"filter\": \"search.ismatch('Hotel','organizations') and mySentiment gt 0.5\",\n      \"queryType\": \"full\", \n      \"searchMode\": \"all\"                    \n        }\n\nr=requests.post(url=searchendpoint,json = searchrequest,headers=headers)\nprint(r)\nr.text",
      "execution_count": 152,
      "outputs": [
        {
          "output_type": "stream",
          "text": "<Response [200]>\n",
          "name": "stdout"
        },
        {
          "output_type": "execute_result",
          "execution_count": 152,
          "data": {
            "text/plain": "'{\"@odata.context\":\"https://qnafaq-aslv4rot7gumsy4.search.windows.net/indexes(\\'margiestravelsearchindex\\')/$metadata#docs(*)\",\"@odata.count\":0,\"value\":[]}'"
          },
          "metadata": {}
        }
      ]
    },
    {
      "metadata": {
        "trusted": true
      },
      "cell_type": "code",
      "source": "searchendpoint = \"https://qnafaq-aslv4rot7gumsy4.search.windows.net/indexes/margiestravelsearchindex/docs/search?api-version=2019-05-06\"\nsearchrequest = {\n      \"count\": True,\n      \"search\": \"Las Vegas\",\n      \"filter\": \"not search.ismatch('reviews')\",\n      \"searchFields\":\"content\",\n      \"queryType\": \"full\", \n      \"searchMode\": \"all\" \n    }\n\nr=requests.post(url=searchendpoint,json = searchrequest,headers=header)\nprint(r)\nr.text",
      "execution_count": 153,
      "outputs": [
        {
          "output_type": "error",
          "ename": "NameError",
          "evalue": "name 'header' is not defined",
          "traceback": [
            "\u001b[0;31m---------------------------------------------------------------------------\u001b[0m",
            "\u001b[0;31mNameError\u001b[0m                                 Traceback (most recent call last)",
            "\u001b[0;32m<ipython-input-153-c0bd1ac8716e>\u001b[0m in \u001b[0;36m<module>\u001b[0;34m()\u001b[0m\n\u001b[1;32m      9\u001b[0m     }\n\u001b[1;32m     10\u001b[0m \u001b[0;34m\u001b[0m\u001b[0m\n\u001b[0;32m---> 11\u001b[0;31m \u001b[0mr\u001b[0m\u001b[0;34m=\u001b[0m\u001b[0mrequests\u001b[0m\u001b[0;34m.\u001b[0m\u001b[0mpost\u001b[0m\u001b[0;34m(\u001b[0m\u001b[0murl\u001b[0m\u001b[0;34m=\u001b[0m\u001b[0msearchendpoint\u001b[0m\u001b[0;34m,\u001b[0m\u001b[0mjson\u001b[0m \u001b[0;34m=\u001b[0m \u001b[0msearchrequest\u001b[0m\u001b[0;34m,\u001b[0m\u001b[0mheaders\u001b[0m\u001b[0;34m=\u001b[0m\u001b[0mheader\u001b[0m\u001b[0;34m)\u001b[0m\u001b[0;34m\u001b[0m\u001b[0m\n\u001b[0m\u001b[1;32m     12\u001b[0m \u001b[0mprint\u001b[0m\u001b[0;34m(\u001b[0m\u001b[0mr\u001b[0m\u001b[0;34m)\u001b[0m\u001b[0;34m\u001b[0m\u001b[0m\n\u001b[1;32m     13\u001b[0m \u001b[0mr\u001b[0m\u001b[0;34m.\u001b[0m\u001b[0mtext\u001b[0m\u001b[0;34m\u001b[0m\u001b[0m\n",
            "\u001b[0;31mNameError\u001b[0m: name 'header' is not defined"
          ]
        }
      ]
    },
    {
      "metadata": {
        "trusted": true
      },
      "cell_type": "code",
      "source": "",
      "execution_count": null,
      "outputs": []
    }
  ],
  "metadata": {
    "kernelspec": {
      "name": "python3",
      "display_name": "Python 3",
      "language": "python"
    },
    "language_info": {
      "mimetype": "text/x-python",
      "nbconvert_exporter": "python",
      "name": "python",
      "file_extension": ".py",
      "version": "3.5.4",
      "pygments_lexer": "ipython3",
      "codemirror_mode": {
        "version": 3,
        "name": "ipython"
      }
    }
  },
  "nbformat": 4,
  "nbformat_minor": 2
}